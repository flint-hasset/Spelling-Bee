{
 "cells": [
  {
   "cell_type": "markdown",
   "metadata": {},
   "source": [
    "## New York Times 'Spelling Bee' Puzzle Creator\n",
    "You are given a honeycomb grid of 7 letters, with one letter on the inside. Create as many words as possible that are at least 5 letters long, and include the middle letter. Letters may be repeated as many times as necessary in the solution. 3 points are awarded for a word that uses all 7 letters, and all other words are worth 1 point. "
   ]
  },
  {
   "cell_type": "markdown",
   "metadata": {},
   "source": [
    "#### Design Thoughts:\n",
    "1. Generate 7-letter strings, 1 letter is 'center' character.\n",
    "2. Import word list file (SOWPODS)\n",
    "3. Checking permutations is easy. Checking doubled (or more) words is tricky. \n",
    "4. For repeated characters (or maybe all words?): Check via reverse. \n",
    "    - For 'reverse', check for if all characters are in 7-letter game string. \n",
    "    - Use set logic to check. If non-union of set(word) with game_string is 0, word is in list. \n",
    "5. Ideas to ensure puzzle viability\n",
    "    - Check for vowels? \n",
    "    - Must find 7 letters used. Create sublist of dictionary where set(word) = 7 "
   ]
  },
  {
   "cell_type": "markdown",
   "metadata": {},
   "source": [
    "#### Revelation! \n",
    "1. Don't generate random strings; this is silly! \n",
    "2. Use the seven_letter_list as starting sets! \n",
    "    - No randoms needed (except to select one of those)\n",
    "    - Guarantees 7-letter word (obviously!)\n",
    "3. Starting with these strings, select a 'center' letter, and count against full word list for scoring (print words)\n",
    "\n",
    "#### Need to find a better dictionary! Probably 50k most common words? "
   ]
  },
  {
   "cell_type": "code",
   "execution_count": 1,
   "metadata": {},
   "outputs": [],
   "source": [
    "import random\n",
    "import timeit"
   ]
  },
  {
   "cell_type": "code",
   "execution_count": 2,
   "metadata": {},
   "outputs": [
    {
     "data": {
      "text/plain": [
       "55179"
      ]
     },
     "execution_count": 2,
     "metadata": {},
     "output_type": "execute_result"
    }
   ],
   "source": [
    "#### Import word list.\n",
    "#### Options to select twl (scrabble list) or 20k most common words\n",
    "#word_list = open(r\"D:\\Users\\hiltss\\Github\\Spelling-Bee\\wiki-100k.txt\", encoding='utf-8').read().split(\"\\n\")\n",
    "#word_list = open(r\"D:\\Users\\hiltss\\Github\\Spelling-Bee\\20k.txt\").read().split(\"\\n\")\n",
    "word_list = open(r\"D:\\Users\\hiltss\\Github\\Spelling-Bee\\corncob_lowercase.txt\").read().split(\"\\n\")\n",
    "\n",
    "word_list = [x.upper() for x in word_list if len(x)>4] \n",
    "word_list = word_list[1:]\n",
    "\n",
    "len(word_list)"
   ]
  },
  {
   "cell_type": "code",
   "execution_count": 3,
   "metadata": {},
   "outputs": [],
   "source": [
    "#### Create list of words that use 7 letters\n",
    "seven_char_list = []\n",
    "for word in word_list:\n",
    "    if len(set(word)) == 7 and set(word) not in seven_char_list:\n",
    "        seven_char_list.append(set(word))\n"
   ]
  },
  {
   "cell_type": "code",
   "execution_count": 4,
   "metadata": {},
   "outputs": [
    {
     "data": {
      "text/plain": [
       "7290"
      ]
     },
     "execution_count": 4,
     "metadata": {},
     "output_type": "execute_result"
    }
   ],
   "source": [
    "len(seven_char_list)"
   ]
  },
  {
   "cell_type": "code",
   "execution_count": 5,
   "metadata": {},
   "outputs": [],
   "source": [
    "#### Select random entry from seven_char_list as puzzle. \n",
    "def create_candidate_puzzle():\n",
    "    puzzle = seven_char_list[random.randint(0, len(seven_char_list))]\n",
    "    return puzzle\n",
    "\n",
    "def solutions():\n",
    "    solutions_list = []\n",
    "    for word in word_list:\n",
    "        if set(word) <= puzzle and center in set(word):\n",
    "            #if len(puzzle - set(word)) == 0:\n",
    "            solutions_list.append(word)\n",
    "    return solutions_list"
   ]
  },
  {
   "cell_type": "code",
   "execution_count": 20,
   "metadata": {},
   "outputs": [
    {
     "name": "stdout",
     "output_type": "stream",
     "text": [
      "O {'B', 'N', 'H', 'I', 'T', 'O', 'S'}\n",
      "1 43\n"
     ]
    }
   ],
   "source": [
    "#### Print word list, score puzzle! \n",
    "satisfied = 0\n",
    "\n",
    "while satisfied == 0:\n",
    "    puzzle = create_candidate_puzzle()\n",
    "    center = random.choice(tuple(puzzle))\n",
    "\n",
    "    value = 0\n",
    "    threes = 0\n",
    "    \n",
    "\n",
    "    for word in word_list:\n",
    "        if set(word) <= puzzle and center in set(word):\n",
    "            if len(puzzle - set(word)) == 0:\n",
    "                value += 3\n",
    "                threes += 1\n",
    "            else:\n",
    "                value += 1\n",
    "    if value <45 and value>30 and threes >= 1:\n",
    "        satisfied = 1\n",
    "\n",
    "        print(center,puzzle)    \n",
    "        print(threes, value)\n",
    "        solutions_list = solutions()\n",
    "        \n"
   ]
  },
  {
   "cell_type": "code",
   "execution_count": 34,
   "metadata": {},
   "outputs": [
    {
     "name": "stdout",
     "output_type": "stream",
     "text": [
      "Enter a word:             boots\n",
      "Enter a word:             boost\n",
      "Enter a word:             boots\n",
      "Enter a word:             boosts\n",
      "Enter a word:             bothins\n",
      "Enter a word:             quit\n"
     ]
    }
   ],
   "source": [
    "score = 0 \n",
    "guess_list = []\n",
    "while score < value:\n",
    "    guess = input(\"Enter a word:             \")\n",
    "    if guess == 'quit':\n",
    "        break\n",
    "    else:\n",
    "        guess = guess.upper()\n",
    "        if guess in guess_list:\n",
    "            print(\"Already guessed! Score =\", score, end=\"\\r\")\n",
    "        else:\n",
    "            if guess in solutions_list and len(set(puzzle) - set(guess)) == 0:\n",
    "                score += 3\n",
    "                print(\"PANAGRAM! Score = \", score, end=\"\\r\")\n",
    "            elif guess in solutions_list:\n",
    "                score += 1\n",
    "                print(\"Great! Score = \", score, end=\"\\r\")\n",
    "            else: \n",
    "                print(\"Not in list! Score = \", score, end=\"\\r\")\n",
    "        guess_list.append(guess)\n",
    "    "
   ]
  },
  {
   "cell_type": "code",
   "execution_count": null,
   "metadata": {},
   "outputs": [],
   "source": [
    "print(item, sep=' ', end='', flush=True)"
   ]
  }
 ],
 "metadata": {
  "kernelspec": {
   "display_name": "Python 3",
   "language": "python",
   "name": "python3"
  },
  "language_info": {
   "codemirror_mode": {
    "name": "ipython",
    "version": 3
   },
   "file_extension": ".py",
   "mimetype": "text/x-python",
   "name": "python",
   "nbconvert_exporter": "python",
   "pygments_lexer": "ipython3",
   "version": "3.6.5"
  }
 },
 "nbformat": 4,
 "nbformat_minor": 2
}
