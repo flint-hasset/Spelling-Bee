{
 "cells": [
  {
   "cell_type": "markdown",
   "metadata": {},
   "source": [
    "## New York Times 'Spelling Bee' Puzzle Creator\n",
    "You are given a honeycomb grid of 7 letters, with one letter on the inside. Create as many words as possible that are at least 5 letters long, and include the middle letter. Letters may be repeated as many times as necessary in the solution. 3 points are awarded for a word that uses all 7 letters, and all other words are worth 1 point. "
   ]
  },
  {
   "cell_type": "markdown",
   "metadata": {},
   "source": [
    "#### Design Thoughts:\n",
    "1. Generate 7-letter strings, 1 letter is 'center' character.\n",
    "2. Import word list file (SOWPODS)\n",
    "3. Checking permutations is easy. Checking doubled (or more) words is tricky. \n",
    "4. For repeated characters (or maybe all words?): Check via reverse. \n",
    "    - For 'reverse', check for if all characters are in 7-letter game string. \n",
    "    - Use set logic to check. If non-union of set(word) with game_string is 0, word is in list. \n",
    "5. Ideas to ensure puzzle viability\n",
    "    - Check for vowels? \n",
    "    - Must find 7 letters used. Create sublist of dictionary where set(word) = 7 "
   ]
  },
  {
   "cell_type": "markdown",
   "metadata": {},
   "source": [
    "#### Revelation! \n",
    "1. Don't generate random strings; this is silly! \n",
    "2. Use the seven_letter_list as starting sets! \n",
    "    - No randoms needed (except to select one of those)\n",
    "    - Guarantees 7-letter word (obviously!)\n",
    "3. Starting with these strings, select a 'center' letter, and count against full word list for scoring (print words)\n",
    "\n",
    "#### Need to find a better dictionary! Probably 50k most common words? "
   ]
  },
  {
   "cell_type": "code",
   "execution_count": 1,
   "metadata": {
    "collapsed": true
   },
   "outputs": [],
   "source": [
    "import random\n",
    "import timeit"
   ]
  },
  {
   "cell_type": "code",
   "execution_count": 12,
   "metadata": {},
   "outputs": [
    {
     "data": {
      "text/plain": [
       "173545"
      ]
     },
     "execution_count": 12,
     "metadata": {},
     "output_type": "execute_result"
    }
   ],
   "source": [
    "#### Import word list.\n",
    "#### Options to select twl (scrabble list) or 20k most common words\n",
    "word_list = open(r\"C:\\Users\\stefa\\Documents\\GitHub\\Spelling-Bee\\twl06.txt\").read().split(\"\\n\")\n",
    "#word_list = open(r\"C:\\Users\\stefa\\Documents\\GitHub\\Spelling-Bee\\20k.txt\").read().split(\"\\n\")\n",
    "\n",
    "word_list = [x.upper() for x in word_list if len(x)>4] \n",
    "word_list = word_list[1:]\n",
    "\n",
    "len(word_list)"
   ]
  },
  {
   "cell_type": "code",
   "execution_count": 19,
   "metadata": {
    "collapsed": true
   },
   "outputs": [],
   "source": [
    "#### Create list of words that use 7 letters\n",
    "seven_char_list = []\n",
    "for word in word_list:\n",
    "    if len(set(word)) == 7 and set(word) not in seven_char_list:\n",
    "        seven_char_list.append(set(word))\n"
   ]
  },
  {
   "cell_type": "code",
   "execution_count": 134,
   "metadata": {},
   "outputs": [
    {
     "data": {
      "text/plain": [
       "2517"
      ]
     },
     "execution_count": 134,
     "metadata": {},
     "output_type": "execute_result"
    }
   ],
   "source": [
    "len(seven_char_list)"
   ]
  },
  {
   "cell_type": "code",
   "execution_count": 7,
   "metadata": {},
   "outputs": [
    {
     "data": {
      "text/plain": [
       "{'C', 'G', 'I', 'K', 'N', 'S', 'T'}"
      ]
     },
     "execution_count": 7,
     "metadata": {},
     "output_type": "execute_result"
    }
   ],
   "source": [
    "#### Select random entry from seven_char_list as puzzle. \n",
    "def create_candidate_puzzle():\n",
    "    puzzle = seven_char_list[random.randint(0, len(seven_char_list))]\n",
    "    return puzzle\n",
    "\n",
    "create_candidate_puzzle()\n"
   ]
  },
  {
   "cell_type": "code",
   "execution_count": 21,
   "metadata": {},
   "outputs": [
    {
     "name": "stdout",
     "output_type": "stream",
     "text": [
      "L {'K', 'S', 'I', 'H', 'T', 'L', 'Y'}\n",
      "HILLS\n",
      "HILLY\n",
      "HILTS\n",
      "KILLS\n",
      "KILTS\n",
      "KILTY\n",
      "KLIKS\n",
      "LILTS\n",
      "LISTS\n",
      "LITTLISH\n",
      "LYSIS\n",
      "SHILL\n",
      "SHILLS\n",
      "SHILY\n",
      "SHITLIST\n",
      "SHITLISTS\n",
      "SHYLY\n",
      "SILKILY\n",
      "SILKS\n",
      "SILKY\n",
      "SILLILY\n",
      "SILLS\n",
      "SILLY\n",
      "SILTS\n",
      "SILTY\n",
      "SKILL\n",
      "SKILLS\n",
      "SKITTISHLY\n",
      "SKYLIT\n",
      "SLILY\n",
      "SLITS\n",
      "SLITTY\n",
      "SLYLY\n",
      "STILL\n",
      "STILLS\n",
      "STILLY\n",
      "STILT\n",
      "STILTS\n",
      "STYLI\n",
      "STYLISH\n",
      "STYLISHLY\n",
      "STYLIST\n",
      "STYLISTS\n",
      "SYLIS\n",
      "THILL\n",
      "THILLS\n",
      "THISTLY\n",
      "TILLS\n",
      "TILTH\n",
      "TILTHS\n",
      "TILTS\n",
      "TITLIST\n",
      "TITLISTS\n",
      "YILLS\n",
      "1 56\n"
     ]
    }
   ],
   "source": [
    "#### Print word list, score puzzle! \n",
    "puzzle = create_candidate_puzzle()\n",
    "center = random.choice(tuple(puzzle))\n",
    "\n",
    "print(center,puzzle)\n",
    "value = 0\n",
    "threes = 0\n",
    "satisfied = 0\n",
    "\n",
    "for word in word_list:\n",
    "    if set(word) <= puzzle and center in set(word):\n",
    "        if len(puzzle - set(word)) == 0:\n",
    "            value += 3\n",
    "            threes += 1\n",
    "        else:\n",
    "            value += 1\n",
    "        print(word)\n",
    "print(threes, value)\n"
   ]
  },
  {
   "cell_type": "code",
   "execution_count": 56,
   "metadata": {},
   "outputs": [
    {
     "name": "stdout",
     "output_type": "stream",
     "text": [
      "G {'D', 'E', 'I', 'C', 'P', 'L', 'G'}\n",
      "1 35\n"
     ]
    }
   ],
   "source": [
    "#### Print word list, score puzzle! \n",
    "satisfied = 0\n",
    "\n",
    "while satisfied == 0:\n",
    "    puzzle = create_candidate_puzzle()\n",
    "    center = random.choice(tuple(puzzle))\n",
    "\n",
    "    value = 0\n",
    "    threes = 0\n",
    "    \n",
    "\n",
    "    for word in word_list:\n",
    "        if set(word) <= puzzle and center in set(word):\n",
    "            if len(puzzle - set(word)) == 0:\n",
    "                value += 3\n",
    "                threes += 1\n",
    "            else:\n",
    "                value += 1\n",
    "    if value <45 and value>30 and threes >= 1:\n",
    "        satisfied = 1\n",
    "#            print(word)\n",
    "        print(center,puzzle)    \n",
    "        print(threes, value)\n",
    "\n"
   ]
  },
  {
   "cell_type": "code",
   "execution_count": 57,
   "metadata": {},
   "outputs": [
    {
     "name": "stdout",
     "output_type": "stream",
     "text": [
      "DIGGED\n",
      "DIPLEGIC\n",
      "EDGED\n",
      "EGGED\n",
      "EPIGEIC\n",
      "GELDED\n",
      "GELEE\n",
      "GELID\n",
      "GELLED\n",
      "GIDDIED\n",
      "GIGGED\n",
      "GIGGLE\n",
      "GIGGLED\n",
      "GILDED\n",
      "GILLED\n",
      "GILLIE\n",
      "GILLIED\n",
      "GIPPED\n",
      "GLEDE\n",
      "GLEED\n",
      "GLIDE\n",
      "GLIDED\n",
      "IGGED\n",
      "LEDGE\n",
      "LEGGED\n",
      "LIEGE\n",
      "PEGGED\n",
      "PEGLEGGED\n",
      "PIGGED\n",
      "PIGGIE\n",
      "PLEDGE\n",
      "PLEDGED\n",
      "PLEDGEE\n"
     ]
    }
   ],
   "source": [
    "for word in word_list:\n",
    "        if set(word) <= puzzle and center in set(word):\n",
    "            #if len(puzzle - set(word)) == 0:\n",
    "            print(word)"
   ]
  },
  {
   "cell_type": "code",
   "execution_count": null,
   "metadata": {
    "collapsed": true
   },
   "outputs": [],
   "source": []
  }
 ],
 "metadata": {
  "kernelspec": {
   "display_name": "Python 3",
   "language": "python",
   "name": "python3"
  },
  "language_info": {
   "codemirror_mode": {
    "name": "ipython",
    "version": 3
   },
   "file_extension": ".py",
   "mimetype": "text/x-python",
   "name": "python",
   "nbconvert_exporter": "python",
   "pygments_lexer": "ipython3",
   "version": "3.6.1"
  }
 },
 "nbformat": 4,
 "nbformat_minor": 2
}
