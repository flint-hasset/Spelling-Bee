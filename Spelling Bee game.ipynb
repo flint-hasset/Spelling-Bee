{
 "cells": [
  {
   "cell_type": "markdown",
   "metadata": {},
   "source": [
    "## New York Times 'Spelling Bee' Puzzle Creator\n",
    "You are given a honeycomb grid of 7 letters, with one letter on the inside. Create as many words as possible that are at least 5 letters long, and include the middle letter. Letters may be repeated as many times as necessary in the solution. 3 points are awarded for a word that uses all 7 letters, and all other words are worth 1 point. "
   ]
  },
  {
   "cell_type": "markdown",
   "metadata": {},
   "source": [
    "#### Design Thoughts:\n",
    "1. Generate 7-letter strings, 1 letter is 'center' character.\n",
    "2. Import word list file (SOWPODS)\n",
    "3. Checking permutations is easy. Checking doubled (or more) words is tricky. \n",
    "4. For repeated characters (or maybe all words?): Check via reverse. \n",
    "    - For 'reverse', check for if all characters are in 7-letter game string. \n",
    "    - Use set logic to check. If non-union of set(word) with game_string is 0, word is in list. \n",
    "5. Ideas to ensure puzzle viability\n",
    "    - Check for vowels? \n",
    "    - Must find 7 letters used. Create sublist of dictionary where set(word) = 7 "
   ]
  },
  {
   "cell_type": "code",
   "execution_count": 50,
   "metadata": {
    "collapsed": true
   },
   "outputs": [],
   "source": [
    "import random\n"
   ]
  },
  {
   "cell_type": "code",
   "execution_count": 90,
   "metadata": {},
   "outputs": [],
   "source": [
    "#### Import word list.\n",
    "#### Using twl, the scrabble tournament word list\n",
    "word_list = open(r\"C:\\Users\\stefa\\Documents\\GitHub\\Spelling-Bee\\twl06.txt\").read().split(\"\\n\")\n",
    "word_list = [x.upper() for x in word_list] \n",
    "word_list = word_list[1:]\n",
    "\n"
   ]
  },
  {
   "cell_type": "code",
   "execution_count": 89,
   "metadata": {},
   "outputs": [],
   "source": [
    "#### Create list of words that use 7 letters\n",
    "seven_char_list = []\n",
    "for word in word_list:\n",
    "    if len(set(word)) == 7:\n",
    "        seven_char_list.append([word])\n"
   ]
  },
  {
   "cell_type": "code",
   "execution_count": 105,
   "metadata": {},
   "outputs": [],
   "source": [
    "#### Create single random test string\n",
    "lets = 'ABCDEFGHIJKLMNOPQRSTUVWXYZ'\n",
    "vowels = {'AEIOUY'}\n",
    "\n",
    "let_list=[]\n",
    "for let in lets:\n",
    "    let_list.append(let)\n",
    "\n",
    "def create_candidate_puzzle():\n",
    "    puzzle = ''.join(random.sample(let_list, 7))\n",
    "    return puzzle"
   ]
  },
  {
   "cell_type": "code",
   "execution_count": 126,
   "metadata": {},
   "outputs": [
    {
     "name": "stdout",
     "output_type": "stream",
     "text": [
      "set()\n",
      "{'AEIOUY'} {'S', 'R', 'B', 'X', 'I', 'M', 'L'}\n"
     ]
    }
   ],
   "source": [
    "#### Test to make sure puzzle works.\n",
    "    #### First, needs some vowels!\n",
    "    #### Then check against word_list subset. \n",
    "def check_puzzle():\n",
    "    check = create_candidate_puzzle()\n",
    "    if len(set(check)&vowels) <1:\n",
    "        print(\"nah\")\n",
    "\n",
    "print(vowels&set(create_candidate_puzzle()))\n",
    "print(vowels,set(create_candidate_puzzle()))"
   ]
  },
  {
   "cell_type": "code",
   "execution_count": 104,
   "metadata": {},
   "outputs": [
    {
     "data": {
      "text/plain": [
       "'SHRIDTQ'"
      ]
     },
     "execution_count": 104,
     "metadata": {},
     "output_type": "execute_result"
    }
   ],
   "source": [
    "create_candidate_puzzle()"
   ]
  },
  {
   "cell_type": "code",
   "execution_count": null,
   "metadata": {
    "collapsed": true
   },
   "outputs": [],
   "source": [
    "for letter in temp_l:\n",
    "        puzzle_list.append([letter])\n",
    "    #puzzled_list = [''.join(p) for p in puzzle_list] \n"
   ]
  }
 ],
 "metadata": {
  "kernelspec": {
   "display_name": "Python 3",
   "language": "python",
   "name": "python3"
  },
  "language_info": {
   "codemirror_mode": {
    "name": "ipython",
    "version": 3
   },
   "file_extension": ".py",
   "mimetype": "text/x-python",
   "name": "python",
   "nbconvert_exporter": "python",
   "pygments_lexer": "ipython3",
   "version": "3.6.1"
  }
 },
 "nbformat": 4,
 "nbformat_minor": 2
}
